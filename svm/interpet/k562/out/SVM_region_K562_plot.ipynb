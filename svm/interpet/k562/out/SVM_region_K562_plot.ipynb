{
 "cells": [
  {
   "cell_type": "code",
   "execution_count": 2,
   "metadata": {
    "ExecuteTime": {
     "end_time": "2020-05-28T21:56:31.495758Z",
     "start_time": "2020-05-28T21:56:28.993501Z"
    }
   },
   "outputs": [
    {
     "name": "stderr",
     "output_type": "stream",
     "text": [
      "/users/annashch/kerasAC/kerasAC/vis/plot_letters.py:173: FutureWarning: arrays to stack must be passed as a \"sequence\" type such as list or tuple. Support for non-sequence iterables such as generators is deprecated as of NumPy 1.16 and will raise an error in the future.\n",
      "  min_coords = np.vstack(data.min(0) for data in polygons_data).min(0)\n",
      "/users/annashch/kerasAC/kerasAC/vis/plot_letters.py:174: FutureWarning: arrays to stack must be passed as a \"sequence\" type such as list or tuple. Support for non-sequence iterables such as generators is deprecated as of NumPy 1.16 and will raise an error in the future.\n",
      "  max_coords = np.vstack(data.max(0) for data in polygons_data).max(0)\n"
     ]
    }
   ],
   "source": [
    "import argparse\n",
    "import pdb\n",
    "import pysam\n",
    "import numpy as np\n",
    "import pandas as pd\n",
    "from kerasAC.vis import *\n",
    "from kerasAC.splits import *\n",
    "import pdb\n",
    "ltrdict = {'a':[1,0,0,0],\n",
    "           'c':[0,1,0,0],\n",
    "           'g':[0,0,1,0],\n",
    "           't':[0,0,0,1],\n",
    "           'n':[0,0,0,0],\n",
    "           'A':[1,0,0,0],\n",
    "           'C':[0,1,0,0],\n",
    "           'G':[0,0,1,0],\n",
    "           'T':[0,0,0,1],\n",
    "           'N':[0,0,0,0]}\n",
    "\n"
   ]
  },
  {
   "cell_type": "code",
   "execution_count": 3,
   "metadata": {
    "ExecuteTime": {
     "end_time": "2020-05-28T21:57:02.475729Z",
     "start_time": "2020-05-28T21:57:02.462374Z"
    }
   },
   "outputs": [],
   "source": [
    "def get_vals_from_gkm_line(seq):\n",
    "    return np.asarray([[float(i) for i in i.split(',')] for i in seq.split(';')])\n",
    "\n",
    "def one_hot_encode(seq):\n",
    "    return np.array([ltrdict.get(x,[0,0,0,0]) for x in seq])\n",
    "\n",
    "\n",
    "def get_seq(ref,chrom,pos,flank):\n",
    "    seq=ref.fetch(chrom,int(pos)-flank,int(pos)+flank).upper()\n",
    "    return one_hot_encode(seq)\n",
    "\n",
    "\n"
   ]
  },
  {
   "cell_type": "code",
   "execution_count": 7,
   "metadata": {
    "ExecuteTime": {
     "end_time": "2020-05-28T21:57:49.460745Z",
     "start_time": "2020-05-28T21:57:49.414081Z"
    }
   },
   "outputs": [],
   "source": [
    "scores_0=pd.read_csv(\"K562.0.gkmexplain.txt\",header=None,sep='\\t')\n",
    "scores_1=pd.read_csv(\"K562.0.gkmexplain.txt\",header=None,sep='\\t')\n",
    "scores_2=pd.read_csv(\"K562.0.gkmexplain.txt\",header=None,sep='\\t')\n",
    "scores_3=pd.read_csv(\"K562.0.gkmexplain.txt\",header=None,sep='\\t')\n",
    "scores_4=pd.read_csv(\"K562.0.gkmexplain.txt\",header=None,sep='\\t')\n"
   ]
  },
  {
   "cell_type": "code",
   "execution_count": 8,
   "metadata": {
    "ExecuteTime": {
     "end_time": "2020-05-28T21:57:56.267785Z",
     "start_time": "2020-05-28T21:57:56.262172Z"
    }
   },
   "outputs": [],
   "source": [
    "num_snps=scores_0.shape"
   ]
  },
  {
   "cell_type": "code",
   "execution_count": 9,
   "metadata": {
    "ExecuteTime": {
     "end_time": "2020-05-28T21:59:24.300473Z",
     "start_time": "2020-05-28T21:59:24.261810Z"
    }
   },
   "outputs": [
    {
     "data": {
      "text/html": [
       "<div>\n",
       "<style scoped>\n",
       "    .dataframe tbody tr th:only-of-type {\n",
       "        vertical-align: middle;\n",
       "    }\n",
       "\n",
       "    .dataframe tbody tr th {\n",
       "        vertical-align: top;\n",
       "    }\n",
       "\n",
       "    .dataframe thead th {\n",
       "        text-align: right;\n",
       "    }\n",
       "</style>\n",
       "<table border=\"1\" class=\"dataframe\">\n",
       "  <thead>\n",
       "    <tr style=\"text-align: right;\">\n",
       "      <th></th>\n",
       "      <th>0</th>\n",
       "      <th>1</th>\n",
       "      <th>2</th>\n",
       "    </tr>\n",
       "  </thead>\n",
       "  <tbody>\n",
       "    <tr>\n",
       "      <th>0</th>\n",
       "      <td>chr1:144412817</td>\n",
       "      <td>0.101535</td>\n",
       "      <td>0,5.3359e-05,0,0;0,0,0,6.60197e-05;0,0,-4.8447...</td>\n",
       "    </tr>\n",
       "    <tr>\n",
       "      <th>1</th>\n",
       "      <td>chr1:92544893</td>\n",
       "      <td>1.035080</td>\n",
       "      <td>0,2.24223e-05,0,0;0,0,0,2.95528e-05;8.06741e-0...</td>\n",
       "    </tr>\n",
       "    <tr>\n",
       "      <th>2</th>\n",
       "      <td>chr1:114380410</td>\n",
       "      <td>-0.003238</td>\n",
       "      <td>0,0,0,-8.73626e-05;0,-0.000127741,0,0;-0.00016...</td>\n",
       "    </tr>\n",
       "    <tr>\n",
       "      <th>3</th>\n",
       "      <td>chr1:1659415</td>\n",
       "      <td>1.970870</td>\n",
       "      <td>0,3.61122e-05,0,0;0,0,0,6.13838e-05;0.00024855...</td>\n",
       "    </tr>\n",
       "    <tr>\n",
       "      <th>4</th>\n",
       "      <td>chr1:247008607</td>\n",
       "      <td>-0.700631</td>\n",
       "      <td>0,0,0,0.000141874;0,0,0,0.000396812;0,0,0.0004...</td>\n",
       "    </tr>\n",
       "    <tr>\n",
       "      <th>5</th>\n",
       "      <td>chr1:155050714</td>\n",
       "      <td>-0.533873</td>\n",
       "      <td>0,-1.4081e-05,0,0;0,0,0,-6.57653e-05;0,0,-0.00...</td>\n",
       "    </tr>\n",
       "    <tr>\n",
       "      <th>6</th>\n",
       "      <td>chr1:39215239</td>\n",
       "      <td>1.510300</td>\n",
       "      <td>0,0,6.87389e-05,0;0,0,0.000101505,0;0.00025949...</td>\n",
       "    </tr>\n",
       "    <tr>\n",
       "      <th>7</th>\n",
       "      <td>chr1:182085409</td>\n",
       "      <td>-1.377490</td>\n",
       "      <td>0,0.000184317,0,0;0.00031502,0,0,0;0,0,0.00050...</td>\n",
       "    </tr>\n",
       "    <tr>\n",
       "      <th>8</th>\n",
       "      <td>chr1:28369393</td>\n",
       "      <td>-0.250568</td>\n",
       "      <td>0,0,0,3.83716e-05;0,0,-0.00011737,0;0,0,-0.000...</td>\n",
       "    </tr>\n",
       "    <tr>\n",
       "      <th>9</th>\n",
       "      <td>chr1:110328270</td>\n",
       "      <td>0.018378</td>\n",
       "      <td>5.34798e-05,0,0,0;0.000182317,0,0,0;0.00015818...</td>\n",
       "    </tr>\n",
       "    <tr>\n",
       "      <th>10</th>\n",
       "      <td>chr1:779043</td>\n",
       "      <td>-0.703007</td>\n",
       "      <td>0,0,-4.41978e-05,0;0,0,0.000291686,0;0.0004012...</td>\n",
       "    </tr>\n",
       "    <tr>\n",
       "      <th>11</th>\n",
       "      <td>chr1:778923</td>\n",
       "      <td>0.960678</td>\n",
       "      <td>0,0,-1.49632e-05,0;0,0,9.78083e-06,0;0,0,4.433...</td>\n",
       "    </tr>\n",
       "    <tr>\n",
       "      <th>12</th>\n",
       "      <td>chr1:171314295</td>\n",
       "      <td>-1.233320</td>\n",
       "      <td>0,-6.66591e-05,0,0;0,0,0,-8.82267e-05;0,0,0,-0...</td>\n",
       "    </tr>\n",
       "    <tr>\n",
       "      <th>13</th>\n",
       "      <td>chr1:226333741</td>\n",
       "      <td>-0.850493</td>\n",
       "      <td>-3.41041e-05,0,0,0;0,0.000207834,0,0;8.29907e-...</td>\n",
       "    </tr>\n",
       "    <tr>\n",
       "      <th>14</th>\n",
       "      <td>chr1:116139370</td>\n",
       "      <td>-1.113080</td>\n",
       "      <td>0,-8.72136e-05,0,0;-8.60135e-05,0,0,0;0,0,-0.0...</td>\n",
       "    </tr>\n",
       "    <tr>\n",
       "      <th>15</th>\n",
       "      <td>chr1:207998228</td>\n",
       "      <td>-0.522714</td>\n",
       "      <td>-8.11984e-07,0,0,0;-7.57698e-05,0,0,0;0,0,0,-0...</td>\n",
       "    </tr>\n",
       "    <tr>\n",
       "      <th>16</th>\n",
       "      <td>chr1:182084833</td>\n",
       "      <td>0.172707</td>\n",
       "      <td>0,-9.83731e-06,0,0;0,0,0,0.00018204;0,0,0.0001...</td>\n",
       "    </tr>\n",
       "    <tr>\n",
       "      <th>17</th>\n",
       "      <td>chr1:182085318</td>\n",
       "      <td>-1.644650</td>\n",
       "      <td>0,0,0,6.17184e-05;7.78385e-05,0,0,0;0,0,0,0.00...</td>\n",
       "    </tr>\n",
       "    <tr>\n",
       "      <th>18</th>\n",
       "      <td>chr1:175374217</td>\n",
       "      <td>-0.202422</td>\n",
       "      <td>0,0,0,6.66591e-07;0,0,4.502e-06,0;0,0,0,9.1135...</td>\n",
       "    </tr>\n",
       "    <tr>\n",
       "      <th>19</th>\n",
       "      <td>chr1:108898358</td>\n",
       "      <td>-0.626648</td>\n",
       "      <td>-1.9418e-05,0,0,0;0,0,0,7.08873e-05;0,0,0,0.00...</td>\n",
       "    </tr>\n",
       "  </tbody>\n",
       "</table>\n",
       "</div>"
      ],
      "text/plain": [
       "                 0         1  \\\n",
       "0   chr1:144412817  0.101535   \n",
       "1    chr1:92544893  1.035080   \n",
       "2   chr1:114380410 -0.003238   \n",
       "3     chr1:1659415  1.970870   \n",
       "4   chr1:247008607 -0.700631   \n",
       "5   chr1:155050714 -0.533873   \n",
       "6    chr1:39215239  1.510300   \n",
       "7   chr1:182085409 -1.377490   \n",
       "8    chr1:28369393 -0.250568   \n",
       "9   chr1:110328270  0.018378   \n",
       "10     chr1:779043 -0.703007   \n",
       "11     chr1:778923  0.960678   \n",
       "12  chr1:171314295 -1.233320   \n",
       "13  chr1:226333741 -0.850493   \n",
       "14  chr1:116139370 -1.113080   \n",
       "15  chr1:207998228 -0.522714   \n",
       "16  chr1:182084833  0.172707   \n",
       "17  chr1:182085318 -1.644650   \n",
       "18  chr1:175374217 -0.202422   \n",
       "19  chr1:108898358 -0.626648   \n",
       "\n",
       "                                                    2  \n",
       "0   0,5.3359e-05,0,0;0,0,0,6.60197e-05;0,0,-4.8447...  \n",
       "1   0,2.24223e-05,0,0;0,0,0,2.95528e-05;8.06741e-0...  \n",
       "2   0,0,0,-8.73626e-05;0,-0.000127741,0,0;-0.00016...  \n",
       "3   0,3.61122e-05,0,0;0,0,0,6.13838e-05;0.00024855...  \n",
       "4   0,0,0,0.000141874;0,0,0,0.000396812;0,0,0.0004...  \n",
       "5   0,-1.4081e-05,0,0;0,0,0,-6.57653e-05;0,0,-0.00...  \n",
       "6   0,0,6.87389e-05,0;0,0,0.000101505,0;0.00025949...  \n",
       "7   0,0.000184317,0,0;0.00031502,0,0,0;0,0,0.00050...  \n",
       "8   0,0,0,3.83716e-05;0,0,-0.00011737,0;0,0,-0.000...  \n",
       "9   5.34798e-05,0,0,0;0.000182317,0,0,0;0.00015818...  \n",
       "10  0,0,-4.41978e-05,0;0,0,0.000291686,0;0.0004012...  \n",
       "11  0,0,-1.49632e-05,0;0,0,9.78083e-06,0;0,0,4.433...  \n",
       "12  0,-6.66591e-05,0,0;0,0,0,-8.82267e-05;0,0,0,-0...  \n",
       "13  -3.41041e-05,0,0,0;0,0.000207834,0,0;8.29907e-...  \n",
       "14  0,-8.72136e-05,0,0;-8.60135e-05,0,0,0;0,0,-0.0...  \n",
       "15  -8.11984e-07,0,0,0;-7.57698e-05,0,0,0;0,0,0,-0...  \n",
       "16  0,-9.83731e-06,0,0;0,0,0,0.00018204;0,0,0.0001...  \n",
       "17  0,0,0,6.17184e-05;7.78385e-05,0,0,0;0,0,0,0.00...  \n",
       "18  0,0,0,6.66591e-07;0,0,4.502e-06,0;0,0,0,9.1135...  \n",
       "19  -1.9418e-05,0,0,0;0,0,0,7.08873e-05;0,0,0,0.00...  "
      ]
     },
     "execution_count": 9,
     "metadata": {},
     "output_type": "execute_result"
    }
   ],
   "source": [
    "scores_0"
   ]
  },
  {
   "cell_type": "code",
   "execution_count": null,
   "metadata": {},
   "outputs": [],
   "source": [
    "for index in range(num_snps): \n",
    "    chrom_info=scores[0][0].split(':')\n",
    "    chrom=chrom_info[0]\n",
    "    "
   ]
  }
 ],
 "metadata": {
  "kernelspec": {
   "display_name": "Python 3",
   "language": "python",
   "name": "python3"
  },
  "language_info": {
   "codemirror_mode": {
    "name": "ipython",
    "version": 3
   },
   "file_extension": ".py",
   "mimetype": "text/x-python",
   "name": "python",
   "nbconvert_exporter": "python",
   "pygments_lexer": "ipython3",
   "version": "3.7.6"
  }
 },
 "nbformat": 4,
 "nbformat_minor": 4
}
