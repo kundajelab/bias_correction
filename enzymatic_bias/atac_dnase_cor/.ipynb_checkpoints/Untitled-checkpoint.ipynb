{
 "cells": [
  {
   "cell_type": "code",
   "execution_count": 1,
   "metadata": {
    "ExecuteTime": {
     "end_time": "2020-02-06T19:55:41.586525Z",
     "start_time": "2020-02-06T19:55:28.920854Z"
    }
   },
   "outputs": [],
   "source": [
    "import pyBigWig\n",
    "import numpy as np \n",
    "from scipy.stats import pearsonr, spearmanr\n",
    "from plotnine import * "
   ]
  },
  {
   "cell_type": "code",
   "execution_count": 5,
   "metadata": {
    "ExecuteTime": {
     "end_time": "2020-02-06T20:08:54.540781Z",
     "start_time": "2020-02-06T20:08:47.131629Z"
    }
   },
   "outputs": [],
   "source": [
    "#open the relevant bigwigs \n",
    "prefix=\"/oak/stanford/groups/akundaje/projects/enzymatic_bias_correction/pipeline_out/atac\"\n",
    "atac=pyBigWig.open(prefix+'/'+\"SRR072187/call-macs2_signal_track/shard-0/execution/SRR072187.4_1.merged.nodup.no_chrM_MT.fc.signal.bigwig\")\n",
    "dnase_k562=pyBigWig.open(prefix+'/'+\"SRR1565781/call-macs2_signal_track/shard-0/execution/SRR1565781.1.fastq.trimmed.gz.merged.nodup.no_chrM_MT.fc.signal.bigwig\")\n",
    "dnase_mcf7=pyBigWig.open(prefix+'/'+\"SRR1565782/call-macs2_signal_track/shard-0/execution/SRR1565782.1.fastq.trimmed.gz.merged.nodup.no_chrM_MT.fc.signal.bigwig\")"
   ]
  },
  {
   "cell_type": "code",
   "execution_count": 6,
   "metadata": {
    "ExecuteTime": {
     "end_time": "2020-02-06T20:09:30.831154Z",
     "start_time": "2020-02-06T20:09:30.817369Z"
    }
   },
   "outputs": [
    {
     "data": {
      "text/plain": [
       "46709983"
      ]
     },
     "execution_count": 6,
     "metadata": {},
     "output_type": "execute_result"
    }
   ],
   "source": [
    "atac.chroms('chr21')"
   ]
  },
  {
   "cell_type": "code",
   "execution_count": 16,
   "metadata": {
    "ExecuteTime": {
     "end_time": "2020-02-06T20:33:58.917111Z",
     "start_time": "2020-02-06T20:33:56.449563Z"
    }
   },
   "outputs": [],
   "source": [
    "atac_chr21=np.nan_to_num(atac.values('chr21',0,atac.chroms('chr21'),numpy=True))"
   ]
  },
  {
   "cell_type": "code",
   "execution_count": 17,
   "metadata": {
    "ExecuteTime": {
     "end_time": "2020-02-06T20:34:17.064258Z",
     "start_time": "2020-02-06T20:34:13.428102Z"
    }
   },
   "outputs": [],
   "source": [
    "dnase_k562_chr21=np.nan_to_num(dnase_k562.values('chr21',0,dnase_k562.chroms('chr21'),numpy=True))"
   ]
  },
  {
   "cell_type": "code",
   "execution_count": 18,
   "metadata": {
    "ExecuteTime": {
     "end_time": "2020-02-06T20:34:28.041680Z",
     "start_time": "2020-02-06T20:34:25.071951Z"
    }
   },
   "outputs": [],
   "source": [
    "dnase_mcf7_chr21=np.nan_to_num(dnase_mcf7.values('chr21',0,dnase_mcf7.chroms('chr21'),numpy=True))"
   ]
  },
  {
   "cell_type": "code",
   "execution_count": 19,
   "metadata": {
    "ExecuteTime": {
     "end_time": "2020-02-06T20:34:28.882327Z",
     "start_time": "2020-02-06T20:34:28.875088Z"
    }
   },
   "outputs": [
    {
     "data": {
      "text/plain": [
       "array([0., 0., 0., 0., 0., 0., 0., 0., 0., 0.], dtype=float32)"
      ]
     },
     "execution_count": 19,
     "metadata": {},
     "output_type": "execute_result"
    }
   ],
   "source": [
    "atac_chr21[0:10]"
   ]
  },
  {
   "cell_type": "code",
   "execution_count": 24,
   "metadata": {
    "ExecuteTime": {
     "end_time": "2020-02-06T20:36:50.316597Z",
     "start_time": "2020-02-06T20:36:35.538658Z"
    }
   },
   "outputs": [
    {
     "data": {
      "text/plain": [
       "SpearmanrResult(correlation=0.4526611394357549, pvalue=0.0)"
      ]
     },
     "execution_count": 24,
     "metadata": {},
     "output_type": "execute_result"
    }
   ],
   "source": [
    "#spearman\n",
    "spearman_atac_dnasek562=spearmanr(atac_chr21,dnase_k562_chr21)\n",
    "spearman_atac_dnasek562"
   ]
  },
  {
   "cell_type": "code",
   "execution_count": 25,
   "metadata": {
    "ExecuteTime": {
     "end_time": "2020-02-06T20:37:01.198914Z",
     "start_time": "2020-02-06T20:36:50.318722Z"
    }
   },
   "outputs": [
    {
     "data": {
      "text/plain": [
       "SpearmanrResult(correlation=0.4193334036002534, pvalue=0.0)"
      ]
     },
     "execution_count": 25,
     "metadata": {},
     "output_type": "execute_result"
    }
   ],
   "source": [
    "spearman_atac_dnasemcf7=spearmanr(atac_chr21,dnase_mcf7_chr21)\n",
    "spearman_atac_dnasemcf7"
   ]
  },
  {
   "cell_type": "code",
   "execution_count": 26,
   "metadata": {
    "ExecuteTime": {
     "end_time": "2020-02-06T20:37:12.279894Z",
     "start_time": "2020-02-06T20:37:01.200790Z"
    }
   },
   "outputs": [
    {
     "data": {
      "text/plain": [
       "SpearmanrResult(correlation=0.7520795704821026, pvalue=0.0)"
      ]
     },
     "execution_count": 26,
     "metadata": {},
     "output_type": "execute_result"
    }
   ],
   "source": [
    "spearman_dnasek562_dnasemcf7=spearmanr(dnase_k562_chr21,dnase_mcf7_chr21)\n",
    "spearman_dnasek562_dnasemcf7"
   ]
  },
  {
   "cell_type": "code",
   "execution_count": 28,
   "metadata": {
    "ExecuteTime": {
     "end_time": "2020-02-06T21:01:08.585328Z",
     "start_time": "2020-02-06T21:01:04.056815Z"
    }
   },
   "outputs": [
    {
     "data": {
      "text/plain": [
       "(0.31976773242593937, 0.0)"
      ]
     },
     "execution_count": 28,
     "metadata": {},
     "output_type": "execute_result"
    }
   ],
   "source": [
    "#pearson\n",
    "pearson_atac_dnasek562=pearsonr(atac_chr21,dnase_k562_chr21)\n",
    "pearson_atac_dnasek562"
   ]
  },
  {
   "cell_type": "code",
   "execution_count": 29,
   "metadata": {
    "ExecuteTime": {
     "end_time": "2020-02-06T21:21:48.308798Z",
     "start_time": "2020-02-06T21:21:41.541500Z"
    }
   },
   "outputs": [
    {
     "data": {
      "text/plain": [
       "(0.2856683429230455, 0.0)"
      ]
     },
     "execution_count": 29,
     "metadata": {},
     "output_type": "execute_result"
    }
   ],
   "source": [
    "pearson_atac_mcf7=pearsonr(atac_chr21,dnase_mcf7_chr21)\n",
    "pearson_atac_mcf7"
   ]
  },
  {
   "cell_type": "code",
   "execution_count": 34,
   "metadata": {
    "ExecuteTime": {
     "end_time": "2020-02-06T21:35:04.592239Z",
     "start_time": "2020-02-06T21:34:58.281837Z"
    }
   },
   "outputs": [
    {
     "data": {
      "text/plain": [
       "(0.6824544519416471, 0.0)"
      ]
     },
     "execution_count": 34,
     "metadata": {},
     "output_type": "execute_result"
    }
   ],
   "source": [
    "pearson_dnasek562_dnasemcf7=pearsonr(dnase_k562_chr21,dnase_mcf7_chr21)\n",
    "pearson_dnasek562_dnasemcf7"
   ]
  },
  {
   "cell_type": "code",
   "execution_count": null,
   "metadata": {},
   "outputs": [],
   "source": []
  }
 ],
 "metadata": {
  "kernelspec": {
   "display_name": "Python 3",
   "language": "python",
   "name": "python3"
  },
  "language_info": {
   "codemirror_mode": {
    "name": "ipython",
    "version": 3
   },
   "file_extension": ".py",
   "mimetype": "text/x-python",
   "name": "python",
   "nbconvert_exporter": "python",
   "pygments_lexer": "ipython3",
   "version": "3.7.0"
  }
 },
 "nbformat": 4,
 "nbformat_minor": 2
}
