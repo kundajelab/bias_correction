{
 "cells": [
  {
   "cell_type": "code",
   "execution_count": 2,
   "metadata": {
    "ExecuteTime": {
     "end_time": "2020-05-15T20:53:26.146097Z",
     "start_time": "2020-05-15T20:53:26.007584Z"
    }
   },
   "outputs": [
    {
     "name": "stdout",
     "output_type": "stream",
     "text": [
      "The autoreload extension is already loaded. To reload it, use:\n",
      "  %reload_ext autoreload\n",
      "opening:/srv/scratch/annashch/bias_correction/enzymatic_bias/tiledb_inputs/merged.SRR1565781.SRR1565782 for reading...\n",
      "success!\n",
      "self.weighted_chrom_indices[(2777473071, 2824183054)]\n",
      "got indices for used chroms\n",
      "identified task indices:[0]\n",
      "created generator\n"
     ]
    }
   ],
   "source": [
    "%load_ext autoreload\n",
    "%autoreload 2\n",
    "import kerasAC \n",
    "from kerasAC.generators.tiledb_generator import *\n",
    "from kerasAC.tiledb_config import *\n",
    "\n",
    "import tiledb \n",
    "gen=TiledbGenerator(ref_fasta=\"/mnt/data/GRCh38_no_alt_analysis_set_GCA_000001405.15.fasta\",\n",
    "                    chroms=['chr21'],\n",
    "                    batch_size=50,\n",
    "                    tdb_array=\"/srv/scratch/annashch/bias_correction/enzymatic_bias/tiledb_inputs/merged.SRR1565781.SRR1565782\",\n",
    "                    tdb_input_flank=[673],\n",
    "                    tdb_input_source_attribute=[\"seq\"],\n",
    "                    tdb_input_aggregation=[None],\n",
    "                    tdb_input_transformation=[None],\n",
    "                    tdb_output_source_attribute=[\"bigwig_track\",\"bigwig_track\"],\n",
    "                    tdb_output_flank=[500,500],\n",
    "                    tdb_output_aggregation=[None,\"sum\"],\n",
    "                    tdb_output_transformation=[None,\"log\"],\n",
    "                    tdb_output_min=[None,2.3],\n",
    "                    tdb_output_max=[None,11.5],\n",
    "                    num_inputs=1,\n",
    "                    num_outputs=2,\n",
    "                    upsample_ratio=0,\n",
    "                    tasks=['SRR1565781.SRR1565782'],\n",
    "                    tdb_ambig_attribute='ambig_peak',\n",
    "                    shuffle_epoch_start=True,\n",
    "                    shuffle_epoch_end=True,\n",
    "                    return_coords=True,\n",
    "                    tdb_config=get_default_config(),\n",
    "                    tdb_ctx=tiledb.Ctx(config=get_default_config()),\n",
    "                    num_threads=24,\n",
    "                    pseudocount=1,\n",
    "                    tdb_partition_attribute_for_upsample=None,\n",
    "                    tdb_partition_thresh_for_upsample=None)\n",
    "                    "
   ]
  },
  {
   "cell_type": "code",
   "execution_count": 3,
   "metadata": {
    "ExecuteTime": {
     "end_time": "2020-05-15T20:53:30.816680Z",
     "start_time": "2020-05-15T20:53:30.741528Z"
    }
   },
   "outputs": [
    {
     "data": {
      "text/plain": [
       "46709983"
      ]
     },
     "execution_count": 3,
     "metadata": {},
     "output_type": "execute_result"
    }
   ],
   "source": [
    "gen.num_indices"
   ]
  },
  {
   "cell_type": "code",
   "execution_count": 4,
   "metadata": {
    "ExecuteTime": {
     "end_time": "2020-05-15T20:53:50.473368Z",
     "start_time": "2020-05-15T20:53:50.412048Z"
    }
   },
   "outputs": [
    {
     "data": {
      "text/plain": [
       "0"
      ]
     },
     "execution_count": 4,
     "metadata": {},
     "output_type": "execute_result"
    }
   ],
   "source": [
    "gen.upsampled_indices_len"
   ]
  },
  {
   "cell_type": "code",
   "execution_count": 35,
   "metadata": {
    "ExecuteTime": {
     "end_time": "2020-05-15T21:05:06.244528Z",
     "start_time": "2020-05-15T21:05:05.291994Z"
    }
   },
   "outputs": [],
   "source": [
    "(X,y,coords)=gen[3]\n"
   ]
  },
  {
   "cell_type": "code",
   "execution_count": 37,
   "metadata": {
    "ExecuteTime": {
     "end_time": "2020-05-15T21:05:14.896308Z",
     "start_time": "2020-05-15T21:05:14.830026Z"
    },
    "scrolled": true
   },
   "outputs": [
    {
     "data": {
      "text/plain": [
       "(37, 1346, 4)"
      ]
     },
     "execution_count": 37,
     "metadata": {},
     "output_type": "execute_result"
    }
   ],
   "source": [
    "X[0].shape"
   ]
  },
  {
   "cell_type": "code",
   "execution_count": 32,
   "metadata": {
    "ExecuteTime": {
     "end_time": "2020-05-15T20:58:42.123568Z",
     "start_time": "2020-05-15T20:58:42.060854Z"
    }
   },
   "outputs": [
    {
     "data": {
      "text/plain": [
       "array([[ 76.],\n",
       "       [142.],\n",
       "       [110.],\n",
       "       [316.],\n",
       "       [104.],\n",
       "       [ 86.],\n",
       "       [126.],\n",
       "       [116.],\n",
       "       [245.],\n",
       "       [324.],\n",
       "       [339.],\n",
       "       [ 30.],\n",
       "       [112.],\n",
       "       [290.],\n",
       "       [488.],\n",
       "       [127.],\n",
       "       [ 44.],\n",
       "       [122.],\n",
       "       [124.],\n",
       "       [266.],\n",
       "       [142.],\n",
       "       [ 84.],\n",
       "       [108.],\n",
       "       [334.],\n",
       "       [ 88.],\n",
       "       [ 22.],\n",
       "       [502.],\n",
       "       [340.],\n",
       "       [252.]])"
      ]
     },
     "execution_count": 32,
     "metadata": {},
     "output_type": "execute_result"
    }
   ],
   "source": [
    "prof_y.sum(axis=1)"
   ]
  },
  {
   "cell_type": "code",
   "execution_count": 33,
   "metadata": {
    "ExecuteTime": {
     "end_time": "2020-05-15T20:58:42.710394Z",
     "start_time": "2020-05-15T20:58:42.653617Z"
    }
   },
   "outputs": [
    {
     "data": {
      "text/plain": [
       "(29, 1)"
      ]
     },
     "execution_count": 33,
     "metadata": {},
     "output_type": "execute_result"
    }
   ],
   "source": [
    "count_y.shape"
   ]
  },
  {
   "cell_type": "code",
   "execution_count": 34,
   "metadata": {
    "ExecuteTime": {
     "end_time": "2020-05-15T20:58:43.635537Z",
     "start_time": "2020-05-15T20:58:43.577808Z"
    }
   },
   "outputs": [
    {
     "data": {
      "text/plain": [
       "array([[4.34380542],\n",
       "       [4.96284463],\n",
       "       [4.7095302 ],\n",
       "       [5.75890177],\n",
       "       [4.65396035],\n",
       "       [4.46590812],\n",
       "       [4.84418709],\n",
       "       [4.76217393],\n",
       "       [5.50533154],\n",
       "       [5.78382518],\n",
       "       [5.82894562],\n",
       "       [3.4339872 ],\n",
       "       [4.72738782],\n",
       "       [5.67332327],\n",
       "       [6.19236249],\n",
       "       [4.85203026],\n",
       "       [3.80666249],\n",
       "       [4.81218436],\n",
       "       [4.82831374],\n",
       "       [5.58724866],\n",
       "       [4.96284463],\n",
       "       [4.44265126],\n",
       "       [4.69134788],\n",
       "       [5.81413053],\n",
       "       [4.48863637],\n",
       "       [3.13549422],\n",
       "       [6.22059017],\n",
       "       [5.83188248],\n",
       "       [5.53338949]])"
      ]
     },
     "execution_count": 34,
     "metadata": {},
     "output_type": "execute_result"
    }
   ],
   "source": [
    "count_y"
   ]
  },
  {
   "cell_type": "code",
   "execution_count": null,
   "metadata": {},
   "outputs": [],
   "source": []
  },
  {
   "cell_type": "code",
   "execution_count": null,
   "metadata": {},
   "outputs": [],
   "source": []
  }
 ],
 "metadata": {
  "kernelspec": {
   "display_name": "Python 3",
   "language": "python",
   "name": "python3"
  },
  "language_info": {
   "codemirror_mode": {
    "name": "ipython",
    "version": 3
   },
   "file_extension": ".py",
   "mimetype": "text/x-python",
   "name": "python",
   "nbconvert_exporter": "python",
   "pygments_lexer": "ipython3",
   "version": "3.7.6"
  }
 },
 "nbformat": 4,
 "nbformat_minor": 2
}
