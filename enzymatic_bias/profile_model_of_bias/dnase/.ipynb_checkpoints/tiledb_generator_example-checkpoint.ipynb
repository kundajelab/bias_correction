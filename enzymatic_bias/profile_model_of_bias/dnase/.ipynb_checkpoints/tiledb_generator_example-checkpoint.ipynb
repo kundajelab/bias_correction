{
 "cells": [
  {
   "cell_type": "code",
   "execution_count": 1,
   "metadata": {
    "ExecuteTime": {
     "end_time": "2020-05-15T20:53:00.552633Z",
     "start_time": "2020-05-15T20:52:52.945770Z"
    }
   },
   "outputs": [
    {
     "name": "stderr",
     "output_type": "stream",
     "text": [
      "Using TensorFlow backend.\n"
     ]
    },
    {
     "ename": "TypeError",
     "evalue": "__init__() missing 2 required positional arguments: 'tdb_partition_attribute_for_upsample' and 'tdb_partition_thresh_for_upsample'",
     "output_type": "error",
     "traceback": [
      "\u001b[0;31m---------------------------------------------------------------------------\u001b[0m",
      "\u001b[0;31mTypeError\u001b[0m                                 Traceback (most recent call last)",
      "\u001b[0;32m<ipython-input-1-8ff80724dc67>\u001b[0m in \u001b[0;36m<module>\u001b[0;34m\u001b[0m\n\u001b[1;32m     31\u001b[0m                     \u001b[0mtdb_ctx\u001b[0m\u001b[0;34m=\u001b[0m\u001b[0mtiledb\u001b[0m\u001b[0;34m.\u001b[0m\u001b[0mCtx\u001b[0m\u001b[0;34m(\u001b[0m\u001b[0mconfig\u001b[0m\u001b[0;34m=\u001b[0m\u001b[0mget_default_config\u001b[0m\u001b[0;34m(\u001b[0m\u001b[0;34m)\u001b[0m\u001b[0;34m)\u001b[0m\u001b[0;34m,\u001b[0m\u001b[0;34m\u001b[0m\u001b[0;34m\u001b[0m\u001b[0m\n\u001b[1;32m     32\u001b[0m                     \u001b[0mnum_threads\u001b[0m\u001b[0;34m=\u001b[0m\u001b[0;36m24\u001b[0m\u001b[0;34m,\u001b[0m\u001b[0;34m\u001b[0m\u001b[0;34m\u001b[0m\u001b[0m\n\u001b[0;32m---> 33\u001b[0;31m                     pseudocount=1)\n\u001b[0m\u001b[1;32m     34\u001b[0m \u001b[0;34m\u001b[0m\u001b[0m\n",
      "\u001b[0;31mTypeError\u001b[0m: __init__() missing 2 required positional arguments: 'tdb_partition_attribute_for_upsample' and 'tdb_partition_thresh_for_upsample'"
     ]
    }
   ],
   "source": [
    "%load_ext autoreload\n",
    "%autoreload 2\n",
    "import kerasAC \n",
    "from kerasAC.generators.tiledb_generator import *\n",
    "from kerasAC.tiledb_config import *\n",
    "\n",
    "import tiledb \n",
    "gen=TiledbGenerator(ref_fasta=\"/mnt/data/GRCh38_no_alt_analysis_set_GCA_000001405.15.fasta\",\n",
    "                    chroms=['chr21'],\n",
    "                    batch_size=50,\n",
    "                    tdb_array=\"/srv/scratch/annashch/bias_correction/enzymatic_bias/tiledb_inputs/merged.SRR1565781.SRR1565782\",\n",
    "                    tdb_input_flank=[673],\n",
    "                    tdb_input_source_attribute=[\"seq\"],\n",
    "                    tdb_input_aggregation=[None],\n",
    "                    tdb_input_transformation=[None],\n",
    "                    tdb_output_source_attribute=[\"bigwig_track\",\"bigwig_track\"],\n",
    "                    tdb_output_flank=[500,500],\n",
    "                    tdb_output_aggregation=[None,\"sum\"],\n",
    "                    tdb_output_transformation=[None,\"log\"],\n",
    "                    tdb_output_min=[None,2.3],\n",
    "                    tdb_output_max=[None,11.5],\n",
    "                    num_inputs=1,\n",
    "                    num_outputs=2,\n",
    "                    upsample_ratio=0,\n",
    "                    tasks=['SRR1565781.SRR1565782'],\n",
    "                    tdb_ambig_attribute='ambig_peak',\n",
    "                    shuffle_epoch_start=True,\n",
    "                    shuffle_epoch_end=True,\n",
    "                    return_coords=True,\n",
    "                    tdb_config=get_default_config(),\n",
    "                    tdb_ctx=tiledb.Ctx(config=get_default_config()),\n",
    "                    num_threads=24,\n",
    "                    pseudocount=1,\n",
    "                    tdb_partition_attribute_for_upsample=None,\n",
    "                    tdb_partition)\n",
    "                    "
   ]
  },
  {
   "cell_type": "code",
   "execution_count": null,
   "metadata": {
    "ExecuteTime": {
     "end_time": "2020-05-15T20:53:00.555183Z",
     "start_time": "2020-05-15T20:53:00.306Z"
    }
   },
   "outputs": [],
   "source": [
    "gen.num_indices"
   ]
  },
  {
   "cell_type": "code",
   "execution_count": 3,
   "metadata": {
    "ExecuteTime": {
     "end_time": "2020-05-14T17:02:58.630278Z",
     "start_time": "2020-05-14T17:02:58.564708Z"
    }
   },
   "outputs": [
    {
     "data": {
      "text/plain": [
       "764448"
      ]
     },
     "execution_count": 3,
     "metadata": {},
     "output_type": "execute_result"
    }
   ],
   "source": [
    "gen.upsampled_indices_len"
   ]
  },
  {
   "cell_type": "code",
   "execution_count": 4,
   "metadata": {
    "ExecuteTime": {
     "end_time": "2020-05-14T17:02:59.081594Z",
     "start_time": "2020-05-14T17:02:59.012227Z"
    }
   },
   "outputs": [
    {
     "data": {
      "text/plain": [
       "array([2815048827, 2807545760, 2798665936, 2813803771, 2814545532,\n",
       "       2811057739, 2821735136, 2795291666, 2798626098, 2821176212,\n",
       "       2812611982, 2810853893, 2799685507, 2792226817, 2791856128,\n",
       "       2810406032, 2811114663, 2821070199, 2806465571, 2821249084,\n",
       "       2807210331, 2823760063, 2815562270, 2804189141, 2808893589,\n",
       "       2792056735, 2809039351, 2797732170, 2791817656, 2816459227,\n",
       "       2806763500, 2812618843, 2815807180, 2820307374, 2823702255,\n",
       "       2815505596, 2806762737, 2811318391, 2806465711, 2812500435,\n",
       "       2816380283, 2816853321, 2811449602, 2810918615, 2810689351,\n",
       "       2816655336, 2816305278, 2791821697, 2813608796, 2808963768,\n",
       "       2807170684, 2809133379, 2820118483, 2792683503, 2813676863,\n",
       "       2816326577, 2807169585, 2814681677, 2812756385, 2821934817,\n",
       "       2814710990, 2797732712, 2810900667, 2803191030, 2823502576,\n",
       "       2792715520, 2806547229, 2792302964, 2812668412, 2821400537,\n",
       "       2822884758, 2798212663, 2809779171, 2809537827, 2821390048,\n",
       "       2806772561, 2821934885, 2814546389, 2811394103, 2813733679,\n",
       "       2814390883, 2823778294, 2816850833, 2811421131, 2821536280,\n",
       "       2814908567, 2813603416, 2809188153, 2821390371, 2818325793,\n",
       "       2792538236, 2812281314, 2816813880, 2810085245, 2806637482,\n",
       "       2820582417, 2819969107, 2821249990, 2791999446, 2798518980])"
      ]
     },
     "execution_count": 4,
     "metadata": {},
     "output_type": "execute_result"
    }
   ],
   "source": [
    "gen.upsampled_indices[0:100]"
   ]
  },
  {
   "cell_type": "code",
   "execution_count": 7,
   "metadata": {
    "ExecuteTime": {
     "end_time": "2020-05-14T17:08:23.105991Z",
     "start_time": "2020-05-14T17:08:20.747536Z"
    }
   },
   "outputs": [],
   "source": [
    "(X,y,coords)=gen[0]"
   ]
  },
  {
   "cell_type": "code",
   "execution_count": 12,
   "metadata": {
    "ExecuteTime": {
     "end_time": "2020-05-14T17:08:48.447830Z",
     "start_time": "2020-05-14T17:08:48.379632Z"
    },
    "scrolled": true
   },
   "outputs": [
    {
     "data": {
      "text/plain": [
       "array([[[-6.90675478],\n",
       "        [-6.90675478],\n",
       "        [-6.90675478],\n",
       "        ...,\n",
       "        [-6.90675478],\n",
       "        [-4.93025499],\n",
       "        [-4.93025499]],\n",
       "\n",
       "       [[-6.90675478],\n",
       "        [-6.90675478],\n",
       "        [-6.90675478],\n",
       "        ...,\n",
       "        [-6.90675478],\n",
       "        [-6.90675478],\n",
       "        [-6.90675478]],\n",
       "\n",
       "       [[-6.90675478],\n",
       "        [-6.90675478],\n",
       "        [-6.90675478],\n",
       "        ...,\n",
       "        [-4.40144693],\n",
       "        [-6.90675478],\n",
       "        [-6.90675478]],\n",
       "\n",
       "       ...,\n",
       "\n",
       "       [[-6.90675478],\n",
       "        [-6.90675478],\n",
       "        [-6.90675478],\n",
       "        ...,\n",
       "        [-6.90675478],\n",
       "        [-6.90675478],\n",
       "        [-6.90675478]],\n",
       "\n",
       "       [[-5.15268496],\n",
       "        [-5.68789098],\n",
       "        [-6.90675478],\n",
       "        ...,\n",
       "        [-6.90675478],\n",
       "        [-6.90675478],\n",
       "        [-6.90675478]],\n",
       "\n",
       "       [[-5.1507086 ],\n",
       "        [-5.1507086 ],\n",
       "        [-5.1507086 ],\n",
       "        ...,\n",
       "        [-5.1507086 ],\n",
       "        [-5.1507086 ],\n",
       "        [-6.90675478]]])"
      ]
     },
     "execution_count": 12,
     "metadata": {},
     "output_type": "execute_result"
    }
   ],
   "source": [
    "X[2]"
   ]
  },
  {
   "cell_type": "code",
   "execution_count": 13,
   "metadata": {
    "ExecuteTime": {
     "end_time": "2020-05-14T17:15:00.861457Z",
     "start_time": "2020-05-14T17:15:00.198881Z"
    }
   },
   "outputs": [],
   "source": [
    "vals=y[0][0].flatten()"
   ]
  },
  {
   "cell_type": "code",
   "execution_count": 14,
   "metadata": {
    "ExecuteTime": {
     "end_time": "2020-05-14T17:15:00.924124Z",
     "start_time": "2020-05-14T17:15:00.865769Z"
    }
   },
   "outputs": [
    {
     "data": {
      "text/plain": [
       "{0.0, 1.0, 2.0, 3.0, 4.0, 5.0, 6.0, 7.0, 8.0, 9.0, 12.0, 13.0}"
      ]
     },
     "execution_count": 14,
     "metadata": {},
     "output_type": "execute_result"
    }
   ],
   "source": [
    "set(vals)\n"
   ]
  }
 ],
 "metadata": {
  "kernelspec": {
   "display_name": "Python 3",
   "language": "python",
   "name": "python3"
  },
  "language_info": {
   "codemirror_mode": {
    "name": "ipython",
    "version": 3
   },
   "file_extension": ".py",
   "mimetype": "text/x-python",
   "name": "python",
   "nbconvert_exporter": "python",
   "pygments_lexer": "ipython3",
   "version": "3.7.6"
  }
 },
 "nbformat": 4,
 "nbformat_minor": 2
}
