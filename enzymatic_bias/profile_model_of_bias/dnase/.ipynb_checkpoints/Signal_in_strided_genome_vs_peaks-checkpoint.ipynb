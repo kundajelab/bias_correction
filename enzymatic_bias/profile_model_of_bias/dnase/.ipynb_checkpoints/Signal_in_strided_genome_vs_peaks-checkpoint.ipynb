{
 "cells": [
  {
   "cell_type": "code",
   "execution_count": 1,
   "metadata": {
    "ExecuteTime": {
     "end_time": "2020-06-18T17:09:09.379879Z",
     "start_time": "2020-06-18T17:09:08.550075Z"
    }
   },
   "outputs": [],
   "source": [
    "import pandas as pd "
   ]
  },
  {
   "cell_type": "code",
   "execution_count": 2,
   "metadata": {
    "ExecuteTime": {
     "end_time": "2020-06-18T17:11:19.569048Z",
     "start_time": "2020-06-18T17:11:16.747349Z"
    }
   },
   "outputs": [],
   "source": [
    "strided_labels=pd.read_hdf(\"bias.dnase.0.labels.1\")"
   ]
  },
  {
   "cell_type": "code",
   "execution_count": 4,
   "metadata": {
    "ExecuteTime": {
     "end_time": "2020-06-18T17:11:29.107721Z",
     "start_time": "2020-06-18T17:11:29.049054Z"
    }
   },
   "outputs": [
    {
     "data": {
      "text/html": [
       "<div>\n",
       "<style scoped>\n",
       "    .dataframe tbody tr th:only-of-type {\n",
       "        vertical-align: middle;\n",
       "    }\n",
       "\n",
       "    .dataframe tbody tr th {\n",
       "        vertical-align: top;\n",
       "    }\n",
       "\n",
       "    .dataframe thead th {\n",
       "        text-align: right;\n",
       "    }\n",
       "</style>\n",
       "<table border=\"1\" class=\"dataframe\">\n",
       "  <thead>\n",
       "    <tr style=\"text-align: right;\">\n",
       "      <th></th>\n",
       "      <th></th>\n",
       "      <th>0</th>\n",
       "    </tr>\n",
       "    <tr>\n",
       "      <th>CHR</th>\n",
       "      <th>CENTER</th>\n",
       "      <th></th>\n",
       "    </tr>\n",
       "  </thead>\n",
       "  <tbody>\n",
       "    <tr>\n",
       "      <th rowspan=\"5\" valign=\"top\">chr1</th>\n",
       "      <th>673</th>\n",
       "      <td>-6.907755</td>\n",
       "    </tr>\n",
       "    <tr>\n",
       "      <th>1673</th>\n",
       "      <td>-6.907755</td>\n",
       "    </tr>\n",
       "    <tr>\n",
       "      <th>2673</th>\n",
       "      <td>-6.907755</td>\n",
       "    </tr>\n",
       "    <tr>\n",
       "      <th>3673</th>\n",
       "      <td>-6.907755</td>\n",
       "    </tr>\n",
       "    <tr>\n",
       "      <th>4673</th>\n",
       "      <td>-6.907755</td>\n",
       "    </tr>\n",
       "  </tbody>\n",
       "</table>\n",
       "</div>"
      ],
      "text/plain": [
       "                    0\n",
       "CHR  CENTER          \n",
       "chr1 673    -6.907755\n",
       "     1673   -6.907755\n",
       "     2673   -6.907755\n",
       "     3673   -6.907755\n",
       "     4673   -6.907755"
      ]
     },
     "execution_count": 4,
     "metadata": {},
     "output_type": "execute_result"
    }
   ],
   "source": [
    "strided_labels.head()"
   ]
  },
  {
   "cell_type": "code",
   "execution_count": 5,
   "metadata": {
    "ExecuteTime": {
     "end_time": "2020-06-18T17:13:29.000879Z",
     "start_time": "2020-06-18T17:13:27.325005Z"
    }
   },
   "outputs": [],
   "source": [
    "k562_peak_labels=pd.read_hdf(\"peak_region_preds_k562/k562.dnase.0.labels.1\")"
   ]
  },
  {
   "cell_type": "code",
   "execution_count": 6,
   "metadata": {
    "ExecuteTime": {
     "end_time": "2020-06-18T17:13:46.111461Z",
     "start_time": "2020-06-18T17:13:44.452494Z"
    }
   },
   "outputs": [],
   "source": [
    "gm12878_peak_labels=pd.read_hdf(\"peak_region_preds_gm12878/gm12878.dnase.0.labels.1\")"
   ]
  },
  {
   "cell_type": "code",
   "execution_count": 9,
   "metadata": {
    "ExecuteTime": {
     "end_time": "2020-06-18T17:22:45.563159Z",
     "start_time": "2020-06-18T17:22:45.530558Z"
    }
   },
   "outputs": [],
   "source": [
    "%matplotlib inline \n",
    "import matplotlib.pyplot as plt\n",
    "numbins=100"
   ]
  },
  {
   "cell_type": "code",
   "execution_count": 16,
   "metadata": {
    "ExecuteTime": {
     "end_time": "2020-06-18T17:26:56.334835Z",
     "start_time": "2020-06-18T17:26:55.557492Z"
    }
   },
   "outputs": [
    {
     "data": {
      "text/plain": [
       "Text(0, 0.5, 'Frequency')"
      ]
     },
     "execution_count": 16,
     "metadata": {},
     "output_type": "execute_result"
    },
    {
     "data": {
      "image/png": "[encoded data removed]",
      "text/plain": [
       "<Figure size 576x576 with 1 Axes>"
      ]
     },
     "metadata": {
      "needs_background": "light"
     },
     "output_type": "display_data"
    }
   ],
   "source": [
    "plt.rcParams[\"figure.figsize\"]=8,8\n",
    "plt.hist(strided_labels[0],numbins,facecolor='blue',alpha=0.3,label=\"Strided Genome Bias Counts\")\n",
    "plt.hist(k562_peak_labels[0],numbins,facecolor='red',alpha=0.3,label=\"K562 Overlap Peak Bias Counts\")\n",
    "plt.hist(gm12878_peak_labels[0],numbins,facecolor='black',alpha=0.3,label=\"GM12878 Overlap Peak Bias Counts\")\n",
    "plt.legend(loc='best')\n",
    "plt.xlabel(\"log(sum(counts)+0.001))\")\n",
    "plt.ylabel(\"Frequency\")\n",
    "plt.figure() \n"
   ]
  },
  {
   "cell_type": "code",
   "execution_count": null,
   "metadata": {},
   "outputs": [],
   "source": []
  }
 ],
 "metadata": {
  "kernelspec": {
   "display_name": "Python 3",
   "language": "python",
   "name": "python3"
  },
  "language_info": {
   "codemirror_mode": {
    "name": "ipython",
    "version": 3
   },
   "file_extension": ".py",
   "mimetype": "text/x-python",
   "name": "python",
   "nbconvert_exporter": "python",
   "pygments_lexer": "ipython3",
   "version": "3.7.6"
  }
 },
 "nbformat": 4,
 "nbformat_minor": 4
}
