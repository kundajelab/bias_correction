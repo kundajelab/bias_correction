{
 "cells": [
  {
   "cell_type": "code",
   "execution_count": 1,
   "metadata": {
    "ExecuteTime": {
     "end_time": "2020-06-18T20:19:26.903107Z",
     "start_time": "2020-06-18T20:19:12.243420Z"
    }
   },
   "outputs": [
    {
     "name": "stdout",
     "output_type": "stream",
     "text": [
      "WARNING:tensorflow:From /users/annashch/miniconda3/lib/python3.7/site-packages/tensorflow_core/python/compat/v2_compat.py:88: disable_resource_variables (from tensorflow.python.ops.variable_scope) is deprecated and will be removed in a future version.\n",
      "Instructions for updating:\n",
      "non-resource variables are not supported in the long term\n"
     ]
    },
    {
     "name": "stderr",
     "output_type": "stream",
     "text": [
      "Using TensorFlow backend.\n",
      "/users/annashch/kerasAC/kerasAC/vis/plot_letters.py:173: FutureWarning: arrays to stack must be passed as a \"sequence\" type such as list or tuple. Support for non-sequence iterables such as generators is deprecated as of NumPy 1.16 and will raise an error in the future.\n",
      "  min_coords = np.vstack(data.min(0) for data in polygons_data).min(0)\n",
      "/users/annashch/kerasAC/kerasAC/vis/plot_letters.py:174: FutureWarning: arrays to stack must be passed as a \"sequence\" type such as list or tuple. Support for non-sequence iterables such as generators is deprecated as of NumPy 1.16 and will raise an error in the future.\n",
      "  max_coords = np.vstack(data.max(0) for data in polygons_data).max(0)\n"
     ]
    }
   ],
   "source": [
    "%load_ext autoreload\n",
    "%reload_ext autoreload\n",
    "\n",
    "%autoreload 2\n",
    "%matplotlib inline\n",
    "import tensorflow\n",
    "from tensorflow.compat.v1.keras.backend import get_session\n",
    "tensorflow.compat.v1.disable_v2_behavior()\n",
    "import kerasAC \n",
    "from kerasAC.generators.tiledb_predict_generator import *\n",
    "from kerasAC.tiledb_config import *\n",
    "import tiledb \n",
    "from scipy.special import softmax\n",
    "from kerasAC.interpret.deepshap import * \n",
    "from kerasAC.interpret.profile_shap import * \n",
    "from kerasAC.vis import * "
   ]
  },
  {
   "cell_type": "code",
   "execution_count": null,
   "metadata": {
    "ExecuteTime": {
     "end_time": "2020-05-28T21:00:41.851738Z",
     "start_time": "2020-05-28T21:00:41.411385Z"
    }
   },
   "outputs": [],
   "source": [
    "gen=TiledbPredictGenerator(ref_fasta=\"/mnt/data/GRCh38_no_alt_analysis_set_GCA_000001405.15.fasta\",\n",
    "                    batch_size=1,\n",
    "                    bed_regions_summit_center=True,\n",
    "                    bed_regions=\"/srv/scratch/annashch/deeplearning/profile/k562_dnase/bpnet/interpret/regions_to_score.bed\",\n",
    "                    tdb_array=\"/srv/scratch/annashch/encode_dnase_tiledb/db/dnase\",\n",
    "                    tdb_partition_attribute_for_upsample=\"idr_peak\",\n",
    "                    chrom_sizes=\"/users/annashch/hg38.chrom.sizes\",\n",
    "                    tdb_partition_thresh_for_upsample=2,\n",
    "                    tdb_input_flank=[673],\n",
    "                    tdb_input_source_attribute=[\"seq\"],\n",
    "                    tdb_input_aggregation=[None],\n",
    "                    tdb_input_transformation=[None],\n",
    "                    tdb_output_source_attribute=[\"count_bigwig_unstranded_5p\",\"count_bigwig_unstranded_5p\"],\n",
    "                    tdb_output_flank=[500,500],\n",
    "                    tdb_output_aggregation=[None,\"sum\"],\n",
    "                    tdb_output_transformation=[None,\"log\"],\n",
    "                    num_inputs=1,\n",
    "                    num_outputs=2,\n",
    "                    upsample_ratio=None,\n",
    "                    tasks=['ENCSR000EOT'],\n",
    "                    tdb_ambig_attribute=None,\n",
    "                    tdb_config=get_default_config(),\n",
    "                    tdb_ctx=tiledb.Ctx(config=get_default_config()),\n",
    "                    num_threads=1)\n",
    "                    "
   ]
  },
  {
   "cell_type": "code",
   "execution_count": null,
   "metadata": {
    "ExecuteTime": {
     "end_time": "2020-05-28T21:00:42.141375Z",
     "start_time": "2020-05-28T21:00:41.853732Z"
    }
   },
   "outputs": [],
   "source": [
    "#load the model! \n",
    "from keras.models import load_model\n",
    "from keras.utils.generic_utils import get_custom_objects\n",
    "from kerasAC.metrics import * \n",
    "from kerasAC.custom_losses import * \n",
    "custom_objects={\"recall\":recall,\n",
    "                    \"sensitivity\":recall,\n",
    "                    \"specificity\":specificity,\n",
    "                    \"fpr\":fpr,\n",
    "                    \"fnr\":fnr,\n",
    "                    \"precision\":precision,\n",
    "                    \"f1\":f1,\n",
    "                    \"ambig_binary_crossentropy\":ambig_binary_crossentropy,\n",
    "                    \"ambig_mean_absolute_error\":ambig_mean_absolute_error,\n",
    "                    \"ambig_mean_squared_error\":ambig_mean_squared_error,\n",
    "                    \"MultichannelMultinomialNLL\":MultichannelMultinomialNLL}\n",
    "get_custom_objects().update(custom_objects)\n"
   ]
  },
  {
   "cell_type": "code",
   "execution_count": null,
   "metadata": {
    "ExecuteTime": {
     "end_time": "2020-05-28T21:31:41.655623Z",
     "start_time": "2020-05-28T21:00:42.143116Z"
    }
   },
   "outputs": [],
   "source": [
    "label_dict={} \n",
    "pred_dict={} \n",
    "profile_shap_dict={}\n",
    "count_shap_dict={}\n",
    "seq_dict={}\n",
    "seq_dict_1kb={}\n",
    "for fold in range(5):\n",
    "    model=load_model(\"/srv/scratch/annashch/deeplearning/profile/k562_dnase/bpnet/seed.1234.cw.250.filters.500.naive.range.4.6.to.11.5/K562.profile.peaks.only.bpnet.withdups.1234seed.250counts.\"+str(fold)+\".hdf5\")\n",
    "    model_wrapper=(model.input, model.layers[-1].output)\n",
    "    count_explainer=shap.DeepExplainer(model_wrapper,data=create_background,combine_mult_and_diffref=combine_mult_and_diffref_1d)\n",
    "    prof_explainer = create_explainer(model)\n",
    "    for i in range(len(gen)): \n",
    "        X,y,coords=gen[i]\n",
    "        coords=coords[0]\n",
    "        preds=model.predict(X)\n",
    "        pred_prob=softmax(preds[0].squeeze())\n",
    "        pred_counts=pred_prob*(preds[1].squeeze()) \n",
    "        label_counts=y[0].squeeze()\n",
    "        label_prob=label_counts/sum(label_counts)\n",
    "        profile_explanations=prof_explainer(X[0])\n",
    "        count_explanations=np.squeeze(count_explainer.shap_values(X)[0])\n",
    "        plt.rcParams[\"figure.figsize\"]=12,10\n",
    "        fig, axes = plt.subplots(5, 1)\n",
    "        axes[0].plot(pred_counts,label='Predictions',color='r')\n",
    "        axes[1].plot(label_counts,label='Labels',color='b')\n",
    "        axes[2].plot(label_prob,label=\"Labels Probability\",color='b')\n",
    "        axes[2].plot(pred_prob,label=\"Predicted Probability\",color='r')    \n",
    "        axes[0].set_title('K562 DNASE:'+str(fold)+\":\"+str(coords)+\"Counts Label:\"+str(y[1])+\":\"+\"Counts Pred:\"+str(preds[1]))\n",
    "        axes[0].legend()\n",
    "        axes[1].legend() \n",
    "        axes[2].legend()\n",
    "        axes[3]=plot_seq_importance(profile_explanations,X[0].squeeze(),xlim=(173,1173),axes=axes[3])\n",
    "        axes[3].set_title(\"Profile Loss SHAP\")\n",
    "        axes[4]=plot_seq_importance(count_explanations,X[0].squeeze(),xlim=(173,1173),axes=axes[4])\n",
    "        axes[4].set_title(\"Count Loss SHAP\")\n",
    "        plt.subplots_adjust(hspace=0.4)\n",
    "        plt.savefig(\"bpnet.K562.dnase.fold\"+str(fold)+\".\"+coords[0]+'.'+str(coords[1])+'.svg',dpi=80,format=\"svg\")\n",
    "        if coords not in label_dict: \n",
    "            label_dict[coords]={} \n",
    "            pred_dict[coords]={}\n",
    "            profile_shap_dict[coords]={}\n",
    "            count_shap_dict[coords]={}\n",
    "            seq_dict[coords]=X[0]\n",
    "            seq_dict_1kb[coords]=X[0][173:1173]\n",
    "        label_dict[coords][fold]=label_prob\n",
    "        pred_dict[coords][fold]=pred_prob \n",
    "        profile_shap_dict[coords][fold]=profile_explanations \n",
    "        count_shap_dict[coords][fold]=count_explanations \n",
    "        \n",
    "        "
   ]
  },
  {
   "cell_type": "code",
   "execution_count": null,
   "metadata": {
    "ExecuteTime": {
     "end_time": "2020-05-28T21:31:43.046173Z",
     "start_time": "2020-05-28T21:31:41.658385Z"
    }
   },
   "outputs": [],
   "source": [
    "import pickle\n",
    "outputs={} \n",
    "outputs['labels']=label_dict\n",
    "outputs['preds']=pred_dict\n",
    "outputs['seq']=seq_dict\n",
    "outputs['seq_1kb']=seq_dict_1kb\n",
    "outputs['profile_shap']=profile_shap_dict \n",
    "outputs['count_shap']=count_shap_dict \n",
    "pickle.dump( outputs,open( \"region.deepshap.bpnet.p\", \"wb\" ) )\n",
    "\n"
   ]
  },
  {
   "cell_type": "code",
   "execution_count": null,
   "metadata": {
    "ExecuteTime": {
     "end_time": "2020-05-28T20:04:55.774843Z",
     "start_time": "2020-05-28T20:04:46.874279Z"
    }
   },
   "outputs": [],
   "source": [
    "fold=0\n",
    "model=load_model(\"/srv/scratch/annashch/deeplearning/profile/k562_dnase/bpnet/seed.1234.cw.250.filters.500.naive.range.4.6.to.11.5/K562.profile.peaks.only.bpnet.withdups.1234seed.250counts.\"+str(fold)+\".hdf5\")\n"
   ]
  },
  {
   "cell_type": "code",
   "execution_count": null,
   "metadata": {
    "ExecuteTime": {
     "end_time": "2020-05-28T20:05:18.338272Z",
     "start_time": "2020-05-28T20:05:18.170279Z"
    }
   },
   "outputs": [],
   "source": [
    "X,y,coords=gen[19]"
   ]
  },
  {
   "cell_type": "code",
   "execution_count": null,
   "metadata": {
    "ExecuteTime": {
     "end_time": "2020-05-28T20:05:21.800491Z",
     "start_time": "2020-05-28T20:05:19.169975Z"
    }
   },
   "outputs": [],
   "source": [
    "preds=model.predict(X)"
   ]
  },
  {
   "cell_type": "code",
   "execution_count": null,
   "metadata": {
    "ExecuteTime": {
     "end_time": "2020-05-28T20:05:23.057421Z",
     "start_time": "2020-05-28T20:05:22.969697Z"
    }
   },
   "outputs": [],
   "source": [
    "#let's see if the model did well. \n",
    "print(\"counts label:\"+str(y[1]))\n",
    "print(\"counts prediction:\"+str(preds[1]))"
   ]
  },
  {
   "cell_type": "code",
   "execution_count": null,
   "metadata": {
    "ExecuteTime": {
     "end_time": "2020-05-28T20:14:43.635719Z",
     "start_time": "2020-05-28T20:14:42.615877Z"
    }
   },
   "outputs": [],
   "source": [
    "pred_prob=softmax(preds[0].squeeze())\n",
    "pred_counts=pred_prob*(preds[1].squeeze()) \n",
    "label_counts=y[0].squeeze()\n",
    "label_prob=label_counts/sum(label_counts)"
   ]
  },
  {
   "cell_type": "code",
   "execution_count": null,
   "metadata": {
    "ExecuteTime": {
     "end_time": "2020-05-28T20:14:44.297094Z",
     "start_time": "2020-05-28T20:14:43.641325Z"
    }
   },
   "outputs": [],
   "source": [
    "#plt.rcParams[\"figure.figsize\"]=10,8\n",
    "fig, axes = plt.subplots(3, 1)\n",
    "axes[0].plot(pred_counts,label='Predictions',color='r')\n",
    "axes[1].plot(label_counts,label='Labels',color='b')\n",
    "axes[2].plot(label_prob,label=\"Labels Probability\",color='b')\n",
    "axes[2].plot(pred_prob,label=\"Predicted Probability\",color='r')    \n",
    "axes[0].set_title('K562 DNASE :'+str(coords))\n",
    "axes[0].legend()\n",
    "axes[1].legend() \n",
    "axes[2].legend()\n",
    "#plt.show();"
   ]
  },
  {
   "cell_type": "code",
   "execution_count": null,
   "metadata": {
    "ExecuteTime": {
     "end_time": "2020-05-28T20:23:56.871430Z",
     "start_time": "2020-05-28T20:23:56.724254Z"
    }
   },
   "outputs": [],
   "source": [
    "model_wrapper=(model.input, model.layers[-1].output)\n",
    "explainer=shap.DeepExplainer(model_wrapper,data=create_background,combine_mult_and_diffref=combine_mult_and_diffref_1d)"
   ]
  },
  {
   "cell_type": "code",
   "execution_count": null,
   "metadata": {
    "ExecuteTime": {
     "end_time": "2020-05-28T20:25:34.843111Z",
     "start_time": "2020-05-28T20:25:33.624081Z"
    }
   },
   "outputs": [],
   "source": [
    "count_loss_shap=np.squeeze(explainer.shap_values(X)[0])"
   ]
  },
  {
   "cell_type": "code",
   "execution_count": null,
   "metadata": {
    "ExecuteTime": {
     "end_time": "2020-05-28T20:26:05.729791Z",
     "start_time": "2020-05-28T20:26:05.373974Z"
    }
   },
   "outputs": [],
   "source": [
    "profile_loss_shap=np.squeeze(prof_explainer(X[0]))\n"
   ]
  },
  {
   "cell_type": "code",
   "execution_count": null,
   "metadata": {
    "ExecuteTime": {
     "end_time": "2020-05-28T20:32:39.344591Z",
     "start_time": "2020-05-28T20:32:33.404217Z"
    }
   },
   "outputs": [],
   "source": [
    "plot_seq_importance(count_loss_shap,X[0].squeeze(),figsize=(15,2))\n"
   ]
  },
  {
   "cell_type": "code",
   "execution_count": null,
   "metadata": {
    "ExecuteTime": {
     "end_time": "2020-05-28T20:32:45.763684Z",
     "start_time": "2020-05-28T20:32:41.461322Z"
    }
   },
   "outputs": [],
   "source": [
    "plot_seq_importance(profile_loss_shap,X[0].squeeze(),figsize=(15,2))\n"
   ]
  },
  {
   "cell_type": "code",
   "execution_count": null,
   "metadata": {},
   "outputs": [],
   "source": [
    "\n"
   ]
  }
 ],
 "metadata": {
  "kernelspec": {
   "display_name": "Python 3",
   "language": "python",
   "name": "python3"
  },
  "language_info": {
   "codemirror_mode": {
    "name": "ipython",
    "version": 3
   },
   "file_extension": ".py",
   "mimetype": "text/x-python",
   "name": "python",
   "nbconvert_exporter": "python",
   "pygments_lexer": "ipython3",
   "version": "3.7.6"
  }
 },
 "nbformat": 4,
 "nbformat_minor": 4
}
