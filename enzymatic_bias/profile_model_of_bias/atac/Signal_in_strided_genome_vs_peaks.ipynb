{
 "cells": [
  {
   "cell_type": "code",
   "execution_count": 2,
   "metadata": {
    "ExecuteTime": {
     "end_time": "2020-06-19T01:26:03.300304Z",
     "start_time": "2020-06-19T01:26:02.454246Z"
    }
   },
   "outputs": [],
   "source": [
    "import pandas as pd \n",
    "import h5py"
   ]
  },
  {
   "cell_type": "code",
   "execution_count": 3,
   "metadata": {
    "ExecuteTime": {
     "end_time": "2020-06-19T01:26:03.477961Z",
     "start_time": "2020-06-19T01:26:03.303427Z"
    }
   },
   "outputs": [],
   "source": [
    "strided_labels=h5py.File(\"bias.atac.0.predictions\",'r')['lab_1'][:]\n"
   ]
  },
  {
   "cell_type": "code",
   "execution_count": 6,
   "metadata": {
    "ExecuteTime": {
     "end_time": "2020-06-19T01:26:16.149897Z",
     "start_time": "2020-06-19T01:26:16.121604Z"
    }
   },
   "outputs": [
    {
     "data": {
      "text/plain": [
       "(248956,)"
      ]
     },
     "execution_count": 6,
     "metadata": {},
     "output_type": "execute_result"
    }
   ],
   "source": [
    "strided_labels.shape"
   ]
  },
  {
   "cell_type": "code",
   "execution_count": 11,
   "metadata": {
    "ExecuteTime": {
     "end_time": "2020-06-18T23:52:18.895267Z",
     "start_time": "2020-06-18T23:52:18.888216Z"
    }
   },
   "outputs": [
    {
     "data": {
      "text/plain": [
       "(300810, 1)"
      ]
     },
     "execution_count": 11,
     "metadata": {},
     "output_type": "execute_result"
    }
   ],
   "source": [
    "strided_labels.shape"
   ]
  },
  {
   "cell_type": "code",
   "execution_count": 10,
   "metadata": {
    "ExecuteTime": {
     "end_time": "2020-06-19T01:26:40.765888Z",
     "start_time": "2020-06-19T01:26:39.651968Z"
    }
   },
   "outputs": [],
   "source": [
    "gm12878_peak_labels=pd.read_hdf(\"peak_region_preds_gm12878/gm12878.atac.0.labels.1\")"
   ]
  },
  {
   "cell_type": "code",
   "execution_count": 11,
   "metadata": {
    "ExecuteTime": {
     "end_time": "2020-06-19T01:26:40.786216Z",
     "start_time": "2020-06-19T01:26:40.768516Z"
    }
   },
   "outputs": [
    {
     "data": {
      "text/html": [
       "<div>\n",
       "<style scoped>\n",
       "    .dataframe tbody tr th:only-of-type {\n",
       "        vertical-align: middle;\n",
       "    }\n",
       "\n",
       "    .dataframe tbody tr th {\n",
       "        vertical-align: top;\n",
       "    }\n",
       "\n",
       "    .dataframe thead th {\n",
       "        text-align: right;\n",
       "    }\n",
       "</style>\n",
       "<table border=\"1\" class=\"dataframe\">\n",
       "  <thead>\n",
       "    <tr style=\"text-align: right;\">\n",
       "      <th></th>\n",
       "      <th></th>\n",
       "      <th>0</th>\n",
       "    </tr>\n",
       "    <tr>\n",
       "      <th>CHR</th>\n",
       "      <th>CENTER</th>\n",
       "      <th></th>\n",
       "    </tr>\n",
       "  </thead>\n",
       "  <tbody>\n",
       "    <tr>\n",
       "      <th rowspan=\"5\" valign=\"top\">chrY</th>\n",
       "      <th>56859018</th>\n",
       "      <td>3.637612</td>\n",
       "    </tr>\n",
       "    <tr>\n",
       "      <th>56858654</th>\n",
       "      <td>3.871222</td>\n",
       "    </tr>\n",
       "    <tr>\n",
       "      <th>56870909</th>\n",
       "      <td>4.158899</td>\n",
       "    </tr>\n",
       "    <tr>\n",
       "      <th>56873687</th>\n",
       "      <td>3.737693</td>\n",
       "    </tr>\n",
       "    <tr>\n",
       "      <th>9141927</th>\n",
       "      <td>3.178095</td>\n",
       "    </tr>\n",
       "  </tbody>\n",
       "</table>\n",
       "</div>"
      ],
      "text/plain": [
       "                      0\n",
       "CHR  CENTER            \n",
       "chrY 56859018  3.637612\n",
       "     56858654  3.871222\n",
       "     56870909  4.158899\n",
       "     56873687  3.737693\n",
       "     9141927   3.178095"
      ]
     },
     "execution_count": 11,
     "metadata": {},
     "output_type": "execute_result"
    }
   ],
   "source": [
    "gm12878_peak_labels.tail()"
   ]
  },
  {
   "cell_type": "code",
   "execution_count": 12,
   "metadata": {
    "ExecuteTime": {
     "end_time": "2020-06-19T01:26:51.385463Z",
     "start_time": "2020-06-19T01:26:51.380350Z"
    }
   },
   "outputs": [],
   "source": [
    "%matplotlib inline \n",
    "import matplotlib.pyplot as plt\n",
    "numbins=100"
   ]
  },
  {
   "cell_type": "code",
   "execution_count": 13,
   "metadata": {
    "ExecuteTime": {
     "end_time": "2020-06-19T01:26:52.999829Z",
     "start_time": "2020-06-19T01:26:52.009072Z"
    }
   },
   "outputs": [
    {
     "data": {
      "text/plain": [
       "Text(0, 0.5, 'Frequency')"
      ]
     },
     "execution_count": 13,
     "metadata": {},
     "output_type": "execute_result"
    },
    {
     "data": {
      "image/png": "[encoded data removed]",
      "text/plain": [
       "<Figure size 432x288 with 1 Axes>"
      ]
     },
     "metadata": {
      "needs_background": "light"
     },
     "output_type": "display_data"
    }
   ],
   "source": [
    "plt.rcParams[\"figure.figsize\"]=6,4\n",
    "plt.hist(strided_labels,numbins,facecolor='blue',alpha=0.3,label=\"Strided Genome Bias Counts\")\n",
    "plt.hist(gm12878_peak_labels[0],numbins,facecolor='black',alpha=0.3,label=\"GM12878 Overlap Peak Bias Counts\")\n",
    "plt.legend(loc='best')\n",
    "plt.xlabel(\"log(sum(counts)+0.001))\")\n",
    "plt.ylabel(\"Frequency\")\n"
   ]
  },
  {
   "cell_type": "code",
   "execution_count": 16,
   "metadata": {
    "ExecuteTime": {
     "end_time": "2020-06-19T01:27:15.741053Z",
     "start_time": "2020-06-19T01:27:14.403608Z"
    }
   },
   "outputs": [
    {
     "data": {
      "text/plain": [
       "<matplotlib.legend.Legend at 0x7f506d94ab50>"
      ]
     },
     "execution_count": 16,
     "metadata": {},
     "output_type": "execute_result"
    },
    {
     "data": {
      "image/png": "[encoded data removed]",
      "text/plain": [
       "<Figure size 432x864 with 2 Axes>"
      ]
     },
     "metadata": {
      "needs_background": "light"
     },
     "output_type": "display_data"
    }
   ],
   "source": [
    "plt.rcParams[\"figure.figsize\"]=6,12\n",
    "fig,axes=plt.subplots(2) \n",
    "axes[0].hist(strided_labels,numbins,facecolor='blue',alpha=0.3,label=\"Strided Genome Bias Counts\")\n",
    "axes[1].hist(gm12878_peak_labels[0],numbins,facecolor='black',alpha=0.3,label=\"GM12878 Overlap Peak Bias Counts\")\n",
    "axes[0].set_xlim(-7,10)\n",
    "axes[0].legend()\n",
    "axes[1].set_xlim(-7,10)\n",
    "axes[1].legend()\n"
   ]
  },
  {
   "cell_type": "code",
   "execution_count": null,
   "metadata": {},
   "outputs": [],
   "source": []
  }
 ],
 "metadata": {
  "kernelspec": {
   "display_name": "Python 3",
   "language": "python",
   "name": "python3"
  },
  "language_info": {
   "codemirror_mode": {
    "name": "ipython",
    "version": 3
   },
   "file_extension": ".py",
   "mimetype": "text/x-python",
   "name": "python",
   "nbconvert_exporter": "python",
   "pygments_lexer": "ipython3",
   "version": "3.7.6"
  }
 },
 "nbformat": 4,
 "nbformat_minor": 4
}
