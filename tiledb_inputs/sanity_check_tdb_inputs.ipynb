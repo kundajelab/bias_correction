{
 "cells": [
  {
   "cell_type": "code",
   "execution_count": 2,
   "metadata": {},
   "outputs": [
    {
     "name": "stdout",
     "output_type": "stream",
     "text": [
      "2\n",
      "54.09637\n"
     ]
    }
   ],
   "source": [
    "import tiledb\n",
    "import numpy as np \n",
    "import pdb \n",
    "datapath=\"/mnt/data/encode_dnase_tiledb/encode/dnase/ENCSR000EMT.chr1\"\n",
    "data=tiledb.DenseArray(datapath,mode='r')\n",
    "fc_bigwig=data[:]['fc_bigwig']\n",
    "idr_peak=data[:]['idr_peak']\n",
    "#overlap_peak=data[:]['overlap_peak']\n",
    "#pval_bigwig=data[:]['pval_bigwig']\n",
    "#ambig_peak=data[:]['ambig_peak']\n",
    "#ambig_peak=data[:]['count_bigwig_plus_5p']\n",
    "#ambig_peak=data[:]['count_bigwig_minus_5p']\n",
    "#print(np.nanmax(overlap_peak))\n",
    "print(np.nanmax(idr_peak))\n",
    "#print(np.nanmax(ambig_peak))\n",
    "#print(np.nanmax(pval_bigwig))\n",
    "print(np.nanmax(fc_bigwig))\n",
    "\n"
   ]
  },
  {
   "cell_type": "code",
   "execution_count": 4,
   "metadata": {},
   "outputs": [],
   "source": [
    "import pandas as pd\n",
    "import matplotlib \n",
    "from matplotlib import pyplot as plt"
   ]
  },
  {
   "cell_type": "code",
   "execution_count": 5,
   "metadata": {},
   "outputs": [],
   "source": [
    "idr_narrowPeak=pd.read_csv(\"/oak/stanford/groups/akundaje/projects/atlas/dnase_processed/atac/13da5ebe-0941-4855-8599-40bbcc5c58b4/call-reproducibility_idr/execution/optimal_peak.narrowPeak.gz\",header=None,sep='\\t')\n",
    "#idr_narrowPeak_uniq=pd.read_csv(\"\",header=None,sep='\\t')"
   ]
  },
  {
   "cell_type": "code",
   "execution_count": 6,
   "metadata": {},
   "outputs": [],
   "source": [
    "summits=np.where(idr_peak==2)"
   ]
  },
  {
   "cell_type": "code",
   "execution_count": 20,
   "metadata": {},
   "outputs": [
    {
     "data": {
      "text/plain": [
       "18058"
      ]
     },
     "execution_count": 20,
     "metadata": {},
     "output_type": "execute_result"
    }
   ],
   "source": [
    "len(summits[0])"
   ]
  },
  {
   "cell_type": "code",
   "execution_count": 21,
   "metadata": {},
   "outputs": [
    {
     "data": {
      "text/html": [
       "<div>\n",
       "<style scoped>\n",
       "    .dataframe tbody tr th:only-of-type {\n",
       "        vertical-align: middle;\n",
       "    }\n",
       "\n",
       "    .dataframe tbody tr th {\n",
       "        vertical-align: top;\n",
       "    }\n",
       "\n",
       "    .dataframe thead th {\n",
       "        text-align: right;\n",
       "    }\n",
       "</style>\n",
       "<table border=\"1\" class=\"dataframe\">\n",
       "  <thead>\n",
       "    <tr style=\"text-align: right;\">\n",
       "      <th></th>\n",
       "      <th>0</th>\n",
       "      <th>1</th>\n",
       "      <th>2</th>\n",
       "      <th>3</th>\n",
       "      <th>4</th>\n",
       "      <th>5</th>\n",
       "      <th>6</th>\n",
       "      <th>7</th>\n",
       "      <th>8</th>\n",
       "      <th>9</th>\n",
       "    </tr>\n",
       "  </thead>\n",
       "  <tbody>\n",
       "    <tr>\n",
       "      <th>0</th>\n",
       "      <td>chr7</td>\n",
       "      <td>145997303</td>\n",
       "      <td>145997468</td>\n",
       "      <td>.</td>\n",
       "      <td>1000</td>\n",
       "      <td>.</td>\n",
       "      <td>38.17794</td>\n",
       "      <td>139.93965</td>\n",
       "      <td>131.92563</td>\n",
       "      <td>83</td>\n",
       "    </tr>\n",
       "    <tr>\n",
       "      <th>1</th>\n",
       "      <td>chr12</td>\n",
       "      <td>41363606</td>\n",
       "      <td>41363762</td>\n",
       "      <td>.</td>\n",
       "      <td>1000</td>\n",
       "      <td>.</td>\n",
       "      <td>35.06702</td>\n",
       "      <td>139.58408</td>\n",
       "      <td>131.63699</td>\n",
       "      <td>75</td>\n",
       "    </tr>\n",
       "    <tr>\n",
       "      <th>2</th>\n",
       "      <td>chrY</td>\n",
       "      <td>4344741</td>\n",
       "      <td>4344887</td>\n",
       "      <td>.</td>\n",
       "      <td>1000</td>\n",
       "      <td>.</td>\n",
       "      <td>39.01298</td>\n",
       "      <td>131.53731</td>\n",
       "      <td>124.12894</td>\n",
       "      <td>73</td>\n",
       "    </tr>\n",
       "    <tr>\n",
       "      <th>3</th>\n",
       "      <td>chrX</td>\n",
       "      <td>27809382</td>\n",
       "      <td>27809604</td>\n",
       "      <td>.</td>\n",
       "      <td>1000</td>\n",
       "      <td>.</td>\n",
       "      <td>33.34859</td>\n",
       "      <td>130.88385</td>\n",
       "      <td>123.52303</td>\n",
       "      <td>122</td>\n",
       "    </tr>\n",
       "    <tr>\n",
       "      <th>4</th>\n",
       "      <td>chrY</td>\n",
       "      <td>9141858</td>\n",
       "      <td>9141998</td>\n",
       "      <td>.</td>\n",
       "      <td>1000</td>\n",
       "      <td>.</td>\n",
       "      <td>37.33500</td>\n",
       "      <td>124.25579</td>\n",
       "      <td>117.05468</td>\n",
       "      <td>68</td>\n",
       "    </tr>\n",
       "  </tbody>\n",
       "</table>\n",
       "</div>"
      ],
      "text/plain": [
       "       0          1          2  3     4  5         6          7          8  \\\n",
       "0   chr7  145997303  145997468  .  1000  .  38.17794  139.93965  131.92563   \n",
       "1  chr12   41363606   41363762  .  1000  .  35.06702  139.58408  131.63699   \n",
       "2   chrY    4344741    4344887  .  1000  .  39.01298  131.53731  124.12894   \n",
       "3   chrX   27809382   27809604  .  1000  .  33.34859  130.88385  123.52303   \n",
       "4   chrY    9141858    9141998  .  1000  .  37.33500  124.25579  117.05468   \n",
       "\n",
       "     9  \n",
       "0   83  \n",
       "1   75  \n",
       "2   73  \n",
       "3  122  \n",
       "4   68  "
      ]
     },
     "execution_count": 21,
     "metadata": {},
     "output_type": "execute_result"
    }
   ],
   "source": [
    "idr_narrowPeak.head()"
   ]
  },
  {
   "cell_type": "code",
   "execution_count": 22,
   "metadata": {},
   "outputs": [
    {
     "data": {
      "text/plain": [
       "9860"
      ]
     },
     "execution_count": 22,
     "metadata": {},
     "output_type": "execute_result"
    }
   ],
   "source": [
    "cur_chrom=idr_narrowPeak[idr_narrowPeak[0]==\"chr1\"]\n",
    "expected_summits=cur_chrom[1]+cur_chrom[9]\n",
    "len(expected_summits)"
   ]
  },
  {
   "cell_type": "code",
   "execution_count": 23,
   "metadata": {},
   "outputs": [
    {
     "data": {
      "text/plain": [
       "19720"
      ]
     },
     "execution_count": 23,
     "metadata": {},
     "output_type": "execute_result"
    }
   ],
   "source": [
    "9860*2"
   ]
  },
  {
   "cell_type": "code",
   "execution_count": 34,
   "metadata": {},
   "outputs": [
    {
     "name": "stdout",
     "output_type": "stream",
     "text": [
      "[248906121 248906218 248906455 248906569 248906782 248924847 248925173\n",
      " 248925281 248925389]\n"
     ]
    }
   ],
   "source": [
    "print(summits[0][-10:-1])"
   ]
  },
  {
   "cell_type": "code",
   "execution_count": 35,
   "metadata": {},
   "outputs": [
    {
     "data": {
      "text/plain": [
       "array([248873883, 248873996, 248874169, 248874372, 248905951, 248906121,\n",
       "       248906218, 248906455, 248906569])"
      ]
     },
     "execution_count": 35,
     "metadata": {},
     "output_type": "execute_result"
    }
   ],
   "source": [
    "np.sort(np.asarray(expected_summits))[-10:-1]"
   ]
  },
  {
   "cell_type": "code",
   "execution_count": 11,
   "metadata": {},
   "outputs": [
    {
     "data": {
      "text/plain": [
       "[<matplotlib.lines.Line2D at 0x7fba0c0e3fd0>]"
      ]
     },
     "execution_count": 11,
     "metadata": {},
     "output_type": "execute_result"
    },
    {
     "data": {
      "image/png": "[encoded data removed]",
      "text/plain": [
       "<Figure size 432x288 with 1 Axes>"
      ]
     },
     "metadata": {
      "needs_background": "light"
     },
     "output_type": "display_data"
    }
   ],
   "source": [
    "plt.plot(idr_peak)"
   ]
  },
  {
   "cell_type": "code",
   "execution_count": 31,
   "metadata": {},
   "outputs": [
    {
     "data": {
      "text/plain": [
       "[<matplotlib.lines.Line2D at 0x7fb93a7ea7b8>]"
      ]
     },
     "execution_count": 31,
     "metadata": {},
     "output_type": "execute_result"
    },
    {
     "data": {
      "image/png": "[encoded data removed]",
      "text/plain": [
       "<Figure size 432x288 with 1 Axes>"
      ]
     },
     "metadata": {
      "needs_background": "light"
     },
     "output_type": "display_data"
    }
   ],
   "source": [
    "plt.plot(fc_bigwig)"
   ]
  },
  {
   "cell_type": "code",
   "execution_count": 38,
   "metadata": {},
   "outputs": [
    {
     "data": {
      "text/plain": [
       "3683317"
      ]
     },
     "execution_count": 38,
     "metadata": {},
     "output_type": "execute_result"
    }
   ],
   "source": [
    "len(np.where(idr_peak>=1)[0])"
   ]
  },
  {
   "cell_type": "code",
   "execution_count": 39,
   "metadata": {},
   "outputs": [],
   "source": [
    "coverage=sum(idr_narrowPeak[2]-idr_narrowPeak[1])"
   ]
  },
  {
   "cell_type": "code",
   "execution_count": 40,
   "metadata": {},
   "outputs": [
    {
     "data": {
      "text/plain": [
       "65055097"
      ]
     },
     "execution_count": 40,
     "metadata": {},
     "output_type": "execute_result"
    }
   ],
   "source": [
    "coverage"
   ]
  },
  {
   "cell_type": "code",
   "execution_count": 32,
   "metadata": {},
   "outputs": [],
   "source": [
    "#check the bigwig"
   ]
  },
  {
   "cell_type": "code",
   "execution_count": null,
   "metadata": {},
   "outputs": [],
   "source": []
  }
 ],
 "metadata": {
  "kernelspec": {
   "display_name": "Python 3",
   "language": "python",
   "name": "python3"
  },
  "language_info": {
   "codemirror_mode": {
    "name": "ipython",
    "version": 3
   },
   "file_extension": ".py",
   "mimetype": "text/x-python",
   "name": "python",
   "nbconvert_exporter": "python",
   "pygments_lexer": "ipython3",
   "version": "3.7.0"
  }
 },
 "nbformat": 4,
 "nbformat_minor": 2
}
